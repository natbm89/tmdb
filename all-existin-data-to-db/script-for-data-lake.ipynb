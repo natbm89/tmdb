{
 "cells": [
  {
   "cell_type": "code",
   "execution_count": null,
   "id": "7d07a018",
   "metadata": {},
   "outputs": [],
   "source": [
    "import boto3\n",
    "import json\n",
    "from dotenv import load_dotenv\n",
    "\n",
    "bucket_name = os.getenv('BUCKET_NAME_P')\n",
    "lambda_function_name = os.getenv('LAMBDA_FUNCTION_NAME_P')\n",
    "\n",
    "# Extensiones ignoradas\n",
    "excluidos = ['.txt', '.csv', '.log']\n",
    "\n",
    "s3 = boto3.client('s3')\n",
    "lambda_client = boto3.client('lambda')\n",
    "\n",
    "# Lista archivos en el bucket\n",
    "response = s3.list_objects_v2(Bucket=bucket_name)\n",
    "all_keys = [obj['Key'] for obj in response.get('Contents', [])]\n",
    "\n",
    "# Filtra los archivos que NO terminan con extensiones excluidas\n",
    "keys = [key for key in all_keys if not any(key.endswith(ext) for ext in excluidos)]\n",
    "\n",
    "print(f\"Se encontraron {len(keys)} archivos en el bucket '{bucket_name}'.\")\n",
    "\n",
    "# Invoca la Lambda por cada archivo\n",
    "for key in keys:\n",
    "    print(f\"Invocando Lambda para el archivo: {key}\")\n",
    "    payload = json.dumps({'key': key})\n",
    "    lambda_client.invoke(\n",
    "        FunctionName=lambda_function_name,\n",
    "        InvocationType='Event', \n",
    "        Payload=payload\n",
    "    )\n",
    "\n",
    "print(\"Todas las invocaciones han sido lanzadas.\")"
   ]
  }
 ],
 "metadata": {
  "kernelspec": {
   "display_name": "hackaboss",
   "language": "python",
   "name": "python3"
  },
  "language_info": {
   "codemirror_mode": {
    "name": "ipython",
    "version": 3
   },
   "file_extension": ".py",
   "mimetype": "text/x-python",
   "name": "python",
   "nbconvert_exporter": "python",
   "pygments_lexer": "ipython3",
   "version": "3.10.18"
  }
 },
 "nbformat": 4,
 "nbformat_minor": 5
}
