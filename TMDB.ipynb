{
 "cells": [
  {
   "cell_type": "code",
   "execution_count": 16,
   "id": "342f6234",
   "metadata": {},
   "outputs": [],
   "source": [
    "import os\n",
    "import requests\n",
    "import pandas as pd\n",
    "import matplotlib.pyplot as plt\n",
    "import json\n",
    "from datetime import datetime\n"
   ]
  },
  {
   "cell_type": "code",
   "execution_count": null,
   "id": "b909560e",
   "metadata": {},
   "outputs": [],
   "source": [
    "# Definición de las variables\n",
    "TMDB_KEY = \"af1e6bbca0680fe32c9669b0c313dca6\"\n",
    "POPULAR_URL = f\"https://api.themoviedb.org/3/movie/popular?api_key={TMDB_KEY}&language=en-US\"\n",
    "GENRE_URL = f\"https://api.themoviedb.org/3/genre/movie/list?api_key={TMDB_KEY}&language=en-US\"\n",
    "CHANGES_URL = f\"https://api.themoviedb.org/3/movie/changes?api_key={TMDB_KEY}&language=en-US\""
   ]
  },
  {
   "cell_type": "code",
   "execution_count": 18,
   "id": "33daa1f9",
   "metadata": {},
   "outputs": [
    {
     "name": "stdout",
     "output_type": "stream",
     "text": [
      "Datos de películas populares guardados en 'popular_movies_2025-07-24.json'\n"
     ]
    }
   ],
   "source": [
    "# Lectura de datos de las películas populares\n",
    "response = requests.get(POPULAR_URL)\n",
    "\n",
    "if response.status_code == 200:\n",
    "    data = response.json()\n",
    "    \n",
    "    # Filtrar los campos necesarios\n",
    "    filtered_movies = [\n",
    "        {\n",
    "            \"id\": movie[\"id\"],\n",
    "            \"genre_ids\": movie[\"genre_ids\"],\n",
    "            \"title\": movie[\"title\"],\n",
    "            \"adult\": movie[\"adult\"],\n",
    "            \"original_language\": movie[\"original_language\"],\n",
    "            \"popularity\": movie[\"popularity\"],\n",
    "            \"release_date\": movie[\"release_date\"],\n",
    "            \"vote_average\": movie[\"vote_average\"],\n",
    "            \"vote_count\": movie[\"vote_count\"],\n",
    "            \"overview\": movie[\"overview\"]\n",
    "        }\n",
    "        for movie in data[\"results\"]\n",
    "    ]\n",
    "    \n",
    "    # Nombre del archivo con la fecha actual\n",
    "    file_name = f\"popular_movies_{current_date}.json\"\n",
    "    \n",
    "    # Guardar los datos filtrados en un archivo JSON\n",
    "    with open(file_name, 'w', encoding='utf-8') as file:\n",
    "        json.dump(filtered_movies, file, ensure_ascii=False, indent=4)\n",
    "    \n",
    "    print(f\"Datos de películas populares guardados en '{file_name}'\")\n",
    "else:\n",
    "    print(f\"Error en la solicitud: {response.status_code}\")\n"
   ]
  },
  {
   "cell_type": "code",
   "execution_count": null,
   "id": "853083cf",
   "metadata": {},
   "outputs": [
    {
     "name": "stdout",
     "output_type": "stream",
     "text": [
      "Datos guardados en 'genres.json'\n"
     ]
    }
   ],
   "source": [
    "# Ya está ejecutado, por lo que ya tenemos el fichero json de géneros.\n",
    "\n",
    "# response = requests.get(GENRE_URL)\n",
    "\n",
    "# if response.status_code == 200:\n",
    "#     data = response.json()\n",
    "    \n",
    "#     # Guardar los datos en un archivo JSON\n",
    "#     with open('genres.json', 'w', encoding='utf-8') as file:\n",
    "#         json.dump(data, file, ensure_ascii=False, indent=4)\n",
    "    \n",
    "#     print(\"Datos guardados en 'genres.json'\")\n",
    "# else:\n",
    "#     print(f\"Error en la solicitud: {response.status_code}\")\n"
   ]
  },
  {
   "cell_type": "code",
   "execution_count": null,
   "id": "a2c7dfe5",
   "metadata": {},
   "outputs": [
    {
     "name": "stdout",
     "output_type": "stream",
     "text": [
      "Datos de cambios guardados en 'movie_changes_2025-07-24.json'\n"
     ]
    }
   ],
   "source": [
    "# Recolección de datos de cambios recientes en películas\n",
    "\n",
    "# Obtener la fecha actual en formato YYYY-MM-DD\n",
    "current_date = datetime.now().strftime(\"%Y-%m-%d\")\n",
    "\n",
    "response = requests.get(CHANGES_URL)\n",
    "\n",
    "if response.status_code == 200:\n",
    "    data = response.json()\n",
    "    \n",
    "    # Nombre del archivo con la fecha actual\n",
    "    file_name = f\"movie_changes_{current_date}.json\"\n",
    "    \n",
    "    # Guardar los datos en un archivo JSON\n",
    "    with open(file_name, 'w', encoding='utf-8') as file:\n",
    "        json.dump(data, file, ensure_ascii=False, indent=4)\n",
    "    \n",
    "    print(f\"Datos de cambios guardados en '{file_name}'\")\n",
    "else:\n",
    "    print(f\"Error en la solicitud: {response.status_code}\")\n",
    "\n"
   ]
  },
  {
   "cell_type": "code",
   "execution_count": 19,
   "id": "beb6ec3e",
   "metadata": {},
   "outputs": [
    {
     "name": "stdout",
     "output_type": "stream",
     "text": [
      "Créditos de la película guardados en 'movie_550_credits.json'\n"
     ]
    }
   ],
   "source": [
    "# ID de la película (ejemplo: 550 para \"Fight Club\")\n",
    "movie_id = 550\n",
    "\n",
    "# URL del endpoint de créditos\n",
    "reparto_url = f\"https://api.themoviedb.org/3/movie/{movie_id}/credits?api_key={TMDB_KEY}\"\n",
    "\n",
    "# Realizar la solicitud GET\n",
    "response = requests.get(reparto_url)\n",
    "\n",
    "# Verificar si la solicitud fue exitosa\n",
    "if response.status_code == 200:\n",
    "    data = response.json()\n",
    "    \n",
    "    # Extraer el reparto (cast)\n",
    "    cast = data[\"cast\"]\n",
    "    \n",
    "    # Guardar los datos en un archivo JSON\n",
    "    file_name = f\"movie_{movie_id}_credits.json\"\n",
    "    with open(file_name, 'w', encoding='utf-8') as file:\n",
    "        json.dump(cast, file, ensure_ascii=False, indent=4)\n",
    "    \n",
    "    print(f\"Créditos de la película guardados en '{file_name}'\")\n",
    "else:\n",
    "    print(f\"Error en la solicitud: {response.status_code}\")\n"
   ]
  }
 ],
 "metadata": {
  "kernelspec": {
   "display_name": "base",
   "language": "python",
   "name": "python3"
  },
  "language_info": {
   "codemirror_mode": {
    "name": "ipython",
    "version": 3
   },
   "file_extension": ".py",
   "mimetype": "text/x-python",
   "name": "python",
   "nbconvert_exporter": "python",
   "pygments_lexer": "ipython3",
   "version": "3.12.7"
  }
 },
 "nbformat": 4,
 "nbformat_minor": 5
}
