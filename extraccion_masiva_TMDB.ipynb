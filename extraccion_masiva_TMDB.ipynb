{
 "cells": [
  {
   "cell_type": "code",
   "execution_count": 11,
   "id": "24807f96",
   "metadata": {},
   "outputs": [],
   "source": [
    "import os\n",
    "import requests\n",
    "import pandas as pd\n",
    "import matplotlib.pyplot as plt\n",
    "import json\n",
    "from datetime import datetime\n",
    "import time\n",
    "import boto3\n",
    "import io"
   ]
  },
  {
   "cell_type": "code",
   "execution_count": null,
   "id": "b476615c",
   "metadata": {},
   "outputs": [],
   "source": [
    "# Definición de las variables globales\n",
    "TMDB_KEY = \"af1e6bbca0680fe32c9669b0c313dca6\"\n",
    "LATEST_MOVIE = f\"https://api.themoviedb.org/3/movie/latest?api_key={TMDB_KEY}&language=en-US\"\n",
    "MOVIES_URL = f\"https://api.themoviedb.org/3/movie\"\n",
    "GENRE_URL = f\"https://api.themoviedb.org/3/genre/movie/list?api_key={TMDB_KEY}&language=en-US\"\n",
    "CHANGES_URL = f\"https://api.themoviedb.org/3/movie/changes?api_key={TMDB_KEY}&language=en-US\""
   ]
  },
  {
   "cell_type": "code",
   "execution_count": 3,
   "id": "642d05a0",
   "metadata": {},
   "outputs": [],
   "source": [
    "current_date = datetime.today().strftime(\"%Y-%m-%d\")"
   ]
  },
  {
   "cell_type": "code",
   "execution_count": 8,
   "id": "8451dda2",
   "metadata": {},
   "outputs": [],
   "source": [
    "BUCKET_NAME = \"data-lake-tmdb\"\n",
    "session = boto3.Session()\n",
    "s3 = session.client('s3')"
   ]
  },
  {
   "cell_type": "code",
   "execution_count": null,
   "id": "8544d5d9",
   "metadata": {},
   "outputs": [],
   "source": [
    "try:\n",
    "    # Obtención del ID de la última película\n",
    "    response = requests.get(LATEST_MOVIE)\n",
    "    if response.status_code == 200:\n",
    "        data = response.json()\n",
    "        last_movie_id = data[\"id\"]\n",
    "        print(\"ID de la última película:\", last_movie_id)\n",
    "    else:\n",
    "        print(f\"Error en la solicitud: {response.status_code}\")\n",
    "        last_movie_id = None\n",
    "\n",
    "    j = 1_000_000  # Punto de inicio para la descarga de películas\n",
    "\n",
    "    while last_movie_id and j <= last_movie_id:\n",
    "        movies = []\n",
    "        print(f\"\\nDescargando películas desde el id {j} hasta {j+9999}...\")\n",
    "\n",
    "        for i in range(10_000):\n",
    "            current_id = j + i\n",
    "            print(f\"Solicitando id: {current_id}\", end=\"\\r\")\n",
    "            try:\n",
    "                response = requests.get(MOVIES_URL + f\"/{current_id}?api_key={TMDB_KEY}&language=en-US\", timeout=10)\n",
    "                if response.status_code == 200:\n",
    "                    data = response.json()\n",
    "                    movies.append(data)\n",
    "                else:\n",
    "                    print(f\"Error en la solicitud para id {current_id}: {response.status_code}\")\n",
    "            except requests.exceptions.Timeout:\n",
    "                print(f\"Timeout en la solicitud para id {current_id}\")\n",
    "            except Exception as e:\n",
    "                print(f\"Error inesperado en id {current_id}:\", e)\n",
    "            time.sleep(0.05)\n",
    "\n",
    "        file_name = f\"movies{j}.json\"\n",
    "        print(f\"\\nGuardando lote en {file_name} con {len(movies)} películas.\")\n",
    "\n",
    "        # Guardar el archivo en un buffer para subir a S3\n",
    "        buffer = io.BytesIO()\n",
    "        buffer.write(json.dumps(movies, ensure_ascii=False, indent=4).encode('utf-8'))\n",
    "        buffer.seek(0)\n",
    "\n",
    "        try:\n",
    "            s3.put_object(Bucket=BUCKET_NAME, Key=file_name, Body=buffer)\n",
    "            print(f\"Archivo {file_name} subido a S3 bucket {BUCKET_NAME}\")\n",
    "        except Exception as e:\n",
    "            print(f\"Error al subir {file_name} a S3:\", e)\n",
    "\n",
    "        # Guardar el último id en buffer para subir a S3\n",
    "        last_movie_buffer = io.BytesIO()\n",
    "        last_movie_buffer.write(str(current_id).encode('utf-8'))\n",
    "        last_movie_buffer.seek(0)\n",
    "        try:\n",
    "            s3.put_object(Bucket=BUCKET_NAME, Key=\"last-movie-saved.txt\", Body=last_movie_buffer)\n",
    "            print(f\"Última película guardada en S3: {current_id}\")\n",
    "        except Exception as e:\n",
    "            print(\"Error al guardar el último id en S3:\", e)\n",
    "\n",
    "        if j >= last_movie_id:\n",
    "            print(\"Fin de la descarga.\")\n",
    "            break\n",
    "\n",
    "        j += 10_000\n",
    "\n",
    "except Exception as e:\n",
    "    print(\"Error global inesperado:\", e)"
   ]
  },
  {
   "cell_type": "code",
   "execution_count": 14,
   "id": "d684ed9e",
   "metadata": {},
   "outputs": [
    {
     "name": "stdout",
     "output_type": "stream",
     "text": [
      "Géneros extraídos correctamente.\n",
      "Archivo 'genres.json' subido a S3 bucket data-lake-tmdb\n"
     ]
    }
   ],
   "source": [
    "try:\n",
    "    response = requests.get(GENRE_URL, timeout=10)\n",
    "\n",
    "    if response.status_code == 200:\n",
    "        data = response.json()\n",
    "        print(\"Géneros extraídos correctamente.\")\n",
    "\n",
    "        # Guardar en buffer y subir a S3\n",
    "        genre_buffer = io.BytesIO()\n",
    "        genre_buffer.write(json.dumps(data, ensure_ascii=False, indent=4).encode('utf-8'))\n",
    "        genre_buffer.seek(0)\n",
    "\n",
    "        s3.put_object(Bucket=BUCKET_NAME, Key=\"genres.json\", Body=genre_buffer)\n",
    "        print(\"Archivo 'genres.json' subido a S3 bucket\", BUCKET_NAME)\n",
    "        \n",
    "    else:\n",
    "        print(f\"Error en la solicitud: {response.status_code}\")\n",
    "except requests.exceptions.Timeout:\n",
    "    print(\"Timeout en la solicitud de géneros.\")\n",
    "except Exception as e:\n",
    "    print(\"Error inesperado:\", e)"
   ]
  }
 ],
 "metadata": {
  "kernelspec": {
   "display_name": "hackaboss",
   "language": "python",
   "name": "python3"
  },
  "language_info": {
   "codemirror_mode": {
    "name": "ipython",
    "version": 3
   },
   "file_extension": ".py",
   "mimetype": "text/x-python",
   "name": "python",
   "nbconvert_exporter": "python",
   "pygments_lexer": "ipython3",
   "version": "3.10.18"
  }
 },
 "nbformat": 4,
 "nbformat_minor": 5
}
